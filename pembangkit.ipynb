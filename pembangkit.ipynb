{
 "cells": [
  {
   "cell_type": "markdown",
   "metadata": {},
   "source": [
    "1. Menentukan Library"
   ]
  },
  {
   "cell_type": "code",
   "execution_count": 1,
   "metadata": {},
   "outputs": [],
   "source": [
    "import numpy as np\n",
    "import pandas as pd\n",
    "import matplotlib.pyplot as plt\n",
    "import seaborn as sns\n"
   ]
  },
  {
   "cell_type": "markdown",
   "metadata": {},
   "source": [
    "2. Load Dataset"
   ]
  },
  {
   "cell_type": "code",
   "execution_count": 2,
   "metadata": {},
   "outputs": [
    {
     "data": {
      "text/html": [
       "<div>\n",
       "<style scoped>\n",
       "    .dataframe tbody tr th:only-of-type {\n",
       "        vertical-align: middle;\n",
       "    }\n",
       "\n",
       "    .dataframe tbody tr th {\n",
       "        vertical-align: top;\n",
       "    }\n",
       "\n",
       "    .dataframe thead th {\n",
       "        text-align: right;\n",
       "    }\n",
       "</style>\n",
       "<table border=\"1\" class=\"dataframe\">\n",
       "  <thead>\n",
       "    <tr style=\"text-align: right;\">\n",
       "      <th></th>\n",
       "      <th>time</th>\n",
       "      <th>gross</th>\n",
       "      <th>coal_flow</th>\n",
       "      <th>main_steam_press</th>\n",
       "      <th>feedwater_flow</th>\n",
       "      <th>nilai_kalori</th>\n",
       "      <th>air_flow</th>\n",
       "    </tr>\n",
       "  </thead>\n",
       "  <tbody>\n",
       "    <tr>\n",
       "      <th>0</th>\n",
       "      <td>01-Jan-21</td>\n",
       "      <td>-0.1</td>\n",
       "      <td>0.0</td>\n",
       "      <td>0.1</td>\n",
       "      <td>359.5</td>\n",
       "      <td>NaN</td>\n",
       "      <td>0.0</td>\n",
       "    </tr>\n",
       "    <tr>\n",
       "      <th>1</th>\n",
       "      <td>02-Jan-21</td>\n",
       "      <td>-0.1</td>\n",
       "      <td>0.0</td>\n",
       "      <td>0.0</td>\n",
       "      <td>372.1</td>\n",
       "      <td>NaN</td>\n",
       "      <td>592.2</td>\n",
       "    </tr>\n",
       "    <tr>\n",
       "      <th>2</th>\n",
       "      <td>03-Jan-21</td>\n",
       "      <td>-0.1</td>\n",
       "      <td>0.0</td>\n",
       "      <td>0.0</td>\n",
       "      <td>384.9</td>\n",
       "      <td>NaN</td>\n",
       "      <td>0.0</td>\n",
       "    </tr>\n",
       "    <tr>\n",
       "      <th>3</th>\n",
       "      <td>04-Jan-21</td>\n",
       "      <td>-0.1</td>\n",
       "      <td>0.0</td>\n",
       "      <td>NaN</td>\n",
       "      <td>394.0</td>\n",
       "      <td>NaN</td>\n",
       "      <td>0.0</td>\n",
       "    </tr>\n",
       "    <tr>\n",
       "      <th>4</th>\n",
       "      <td>05-Jan-21</td>\n",
       "      <td>-0.1</td>\n",
       "      <td>0.0</td>\n",
       "      <td>0.0</td>\n",
       "      <td>407.1</td>\n",
       "      <td>NaN</td>\n",
       "      <td>26.0</td>\n",
       "    </tr>\n",
       "  </tbody>\n",
       "</table>\n",
       "</div>"
      ],
      "text/plain": [
       "        time  gross  coal_flow  main_steam_press  feedwater_flow  \\\n",
       "0  01-Jan-21   -0.1        0.0               0.1           359.5   \n",
       "1  02-Jan-21   -0.1        0.0               0.0           372.1   \n",
       "2  03-Jan-21   -0.1        0.0               0.0           384.9   \n",
       "3  04-Jan-21   -0.1        0.0               NaN           394.0   \n",
       "4  05-Jan-21   -0.1        0.0               0.0           407.1   \n",
       "\n",
       "   nilai_kalori  air_flow  \n",
       "0           NaN       0.0  \n",
       "1           NaN     592.2  \n",
       "2           NaN       0.0  \n",
       "3           NaN       0.0  \n",
       "4           NaN      26.0  "
      ]
     },
     "execution_count": 2,
     "metadata": {},
     "output_type": "execute_result"
    }
   ],
   "source": [
    "pembangkit_dataset = pd.read_csv('pembangkit.csv', sep=';')\n",
    "\n",
    "pembangkit_dataset.head()"
   ]
  },
  {
   "cell_type": "code",
   "execution_count": 3,
   "metadata": {},
   "outputs": [],
   "source": [
    "pembangkit_dataset.fillna(0, inplace=True)"
   ]
  },
  {
   "cell_type": "code",
   "execution_count": 4,
   "metadata": {},
   "outputs": [
    {
     "data": {
      "text/plain": [
       "(776, 7)"
      ]
     },
     "execution_count": 4,
     "metadata": {},
     "output_type": "execute_result"
    }
   ],
   "source": [
    "pembangkit_dataset.shape"
   ]
  },
  {
   "cell_type": "code",
   "execution_count": 5,
   "metadata": {},
   "outputs": [
    {
     "name": "stdout",
     "output_type": "stream",
     "text": [
      "time                False\n",
      "gross               False\n",
      "coal_flow           False\n",
      "main_steam_press    False\n",
      "feedwater_flow      False\n",
      "nilai_kalori        False\n",
      "air_flow            False\n",
      "dtype: bool\n"
     ]
    }
   ],
   "source": [
    "print(pembangkit_dataset.isnull().any())"
   ]
  },
  {
   "cell_type": "code",
   "execution_count": 6,
   "metadata": {},
   "outputs": [
    {
     "name": "stdout",
     "output_type": "stream",
     "text": [
      "False\n"
     ]
    }
   ],
   "source": [
    "print(pembangkit_dataset.duplicated().any())"
   ]
  },
  {
   "cell_type": "code",
   "execution_count": 7,
   "metadata": {},
   "outputs": [
    {
     "name": "stdout",
     "output_type": "stream",
     "text": [
      "time                 object\n",
      "gross               float64\n",
      "coal_flow           float64\n",
      "main_steam_press    float64\n",
      "feedwater_flow      float64\n",
      "nilai_kalori        float64\n",
      "air_flow            float64\n",
      "dtype: object\n"
     ]
    }
   ],
   "source": [
    "print(pembangkit_dataset.dtypes)"
   ]
  },
  {
   "cell_type": "code",
   "execution_count": 8,
   "metadata": {},
   "outputs": [
    {
     "data": {
      "text/html": [
       "<div>\n",
       "<style scoped>\n",
       "    .dataframe tbody tr th:only-of-type {\n",
       "        vertical-align: middle;\n",
       "    }\n",
       "\n",
       "    .dataframe tbody tr th {\n",
       "        vertical-align: top;\n",
       "    }\n",
       "\n",
       "    .dataframe thead th {\n",
       "        text-align: right;\n",
       "    }\n",
       "</style>\n",
       "<table border=\"1\" class=\"dataframe\">\n",
       "  <thead>\n",
       "    <tr style=\"text-align: right;\">\n",
       "      <th></th>\n",
       "      <th>time</th>\n",
       "      <th>gross</th>\n",
       "      <th>coal_flow</th>\n",
       "      <th>main_steam_press</th>\n",
       "      <th>feedwater_flow</th>\n",
       "      <th>nilai_kalori</th>\n",
       "      <th>air_flow</th>\n",
       "    </tr>\n",
       "  </thead>\n",
       "  <tbody>\n",
       "    <tr>\n",
       "      <th>0</th>\n",
       "      <td>01-Jan-21</td>\n",
       "      <td>-0.1</td>\n",
       "      <td>0.0</td>\n",
       "      <td>0.1</td>\n",
       "      <td>359.5</td>\n",
       "      <td>0.0</td>\n",
       "      <td>0.0</td>\n",
       "    </tr>\n",
       "    <tr>\n",
       "      <th>1</th>\n",
       "      <td>02-Jan-21</td>\n",
       "      <td>-0.1</td>\n",
       "      <td>0.0</td>\n",
       "      <td>0.0</td>\n",
       "      <td>372.1</td>\n",
       "      <td>0.0</td>\n",
       "      <td>592.2</td>\n",
       "    </tr>\n",
       "    <tr>\n",
       "      <th>2</th>\n",
       "      <td>03-Jan-21</td>\n",
       "      <td>-0.1</td>\n",
       "      <td>0.0</td>\n",
       "      <td>0.0</td>\n",
       "      <td>384.9</td>\n",
       "      <td>0.0</td>\n",
       "      <td>0.0</td>\n",
       "    </tr>\n",
       "    <tr>\n",
       "      <th>3</th>\n",
       "      <td>04-Jan-21</td>\n",
       "      <td>-0.1</td>\n",
       "      <td>0.0</td>\n",
       "      <td>0.0</td>\n",
       "      <td>394.0</td>\n",
       "      <td>0.0</td>\n",
       "      <td>0.0</td>\n",
       "    </tr>\n",
       "    <tr>\n",
       "      <th>4</th>\n",
       "      <td>05-Jan-21</td>\n",
       "      <td>-0.1</td>\n",
       "      <td>0.0</td>\n",
       "      <td>0.0</td>\n",
       "      <td>407.1</td>\n",
       "      <td>0.0</td>\n",
       "      <td>26.0</td>\n",
       "    </tr>\n",
       "  </tbody>\n",
       "</table>\n",
       "</div>"
      ],
      "text/plain": [
       "        time  gross  coal_flow  main_steam_press  feedwater_flow  \\\n",
       "0  01-Jan-21   -0.1        0.0               0.1           359.5   \n",
       "1  02-Jan-21   -0.1        0.0               0.0           372.1   \n",
       "2  03-Jan-21   -0.1        0.0               0.0           384.9   \n",
       "3  04-Jan-21   -0.1        0.0               0.0           394.0   \n",
       "4  05-Jan-21   -0.1        0.0               0.0           407.1   \n",
       "\n",
       "   nilai_kalori  air_flow  \n",
       "0           0.0       0.0  \n",
       "1           0.0     592.2  \n",
       "2           0.0       0.0  \n",
       "3           0.0       0.0  \n",
       "4           0.0      26.0  "
      ]
     },
     "execution_count": 8,
     "metadata": {},
     "output_type": "execute_result"
    }
   ],
   "source": [
    "pembangkit_dataset.head()"
   ]
  },
  {
   "cell_type": "markdown",
   "metadata": {},
   "source": [
    "3. Standarisasi Data"
   ]
  },
  {
   "cell_type": "code",
   "execution_count": 9,
   "metadata": {},
   "outputs": [],
   "source": [
    "pembangkit_dataset = pembangkit_dataset.drop('time', axis=1)"
   ]
  },
  {
   "cell_type": "code",
   "execution_count": 10,
   "metadata": {},
   "outputs": [],
   "source": [
    "# Hitung rata-rata (mean) dari semua nilai non-nol dalam tabel\n",
    "mean_value = pembangkit_dataset[pembangkit_dataset != 0].mean().mean()"
   ]
  },
  {
   "cell_type": "code",
   "execution_count": 11,
   "metadata": {},
   "outputs": [
    {
     "data": {
      "text/html": [
       "<div>\n",
       "<style scoped>\n",
       "    .dataframe tbody tr th:only-of-type {\n",
       "        vertical-align: middle;\n",
       "    }\n",
       "\n",
       "    .dataframe tbody tr th {\n",
       "        vertical-align: top;\n",
       "    }\n",
       "\n",
       "    .dataframe thead th {\n",
       "        text-align: right;\n",
       "    }\n",
       "</style>\n",
       "<table border=\"1\" class=\"dataframe\">\n",
       "  <thead>\n",
       "    <tr style=\"text-align: right;\">\n",
       "      <th></th>\n",
       "      <th>gross</th>\n",
       "      <th>coal_flow</th>\n",
       "      <th>main_steam_press</th>\n",
       "      <th>feedwater_flow</th>\n",
       "      <th>nilai_kalori</th>\n",
       "      <th>air_flow</th>\n",
       "    </tr>\n",
       "  </thead>\n",
       "  <tbody>\n",
       "    <tr>\n",
       "      <th>0</th>\n",
       "      <td>-0.1</td>\n",
       "      <td>1160.599622</td>\n",
       "      <td>0.100000</td>\n",
       "      <td>359.5</td>\n",
       "      <td>1160.599622</td>\n",
       "      <td>1160.599622</td>\n",
       "    </tr>\n",
       "    <tr>\n",
       "      <th>1</th>\n",
       "      <td>-0.1</td>\n",
       "      <td>1160.599622</td>\n",
       "      <td>1160.599622</td>\n",
       "      <td>372.1</td>\n",
       "      <td>1160.599622</td>\n",
       "      <td>592.200000</td>\n",
       "    </tr>\n",
       "    <tr>\n",
       "      <th>2</th>\n",
       "      <td>-0.1</td>\n",
       "      <td>1160.599622</td>\n",
       "      <td>1160.599622</td>\n",
       "      <td>384.9</td>\n",
       "      <td>1160.599622</td>\n",
       "      <td>1160.599622</td>\n",
       "    </tr>\n",
       "    <tr>\n",
       "      <th>3</th>\n",
       "      <td>-0.1</td>\n",
       "      <td>1160.599622</td>\n",
       "      <td>1160.599622</td>\n",
       "      <td>394.0</td>\n",
       "      <td>1160.599622</td>\n",
       "      <td>1160.599622</td>\n",
       "    </tr>\n",
       "    <tr>\n",
       "      <th>4</th>\n",
       "      <td>-0.1</td>\n",
       "      <td>1160.599622</td>\n",
       "      <td>1160.599622</td>\n",
       "      <td>407.1</td>\n",
       "      <td>1160.599622</td>\n",
       "      <td>26.000000</td>\n",
       "    </tr>\n",
       "  </tbody>\n",
       "</table>\n",
       "</div>"
      ],
      "text/plain": [
       "   gross    coal_flow  main_steam_press  feedwater_flow  nilai_kalori  \\\n",
       "0   -0.1  1160.599622          0.100000           359.5   1160.599622   \n",
       "1   -0.1  1160.599622       1160.599622           372.1   1160.599622   \n",
       "2   -0.1  1160.599622       1160.599622           384.9   1160.599622   \n",
       "3   -0.1  1160.599622       1160.599622           394.0   1160.599622   \n",
       "4   -0.1  1160.599622       1160.599622           407.1   1160.599622   \n",
       "\n",
       "      air_flow  \n",
       "0  1160.599622  \n",
       "1   592.200000  \n",
       "2  1160.599622  \n",
       "3  1160.599622  \n",
       "4    26.000000  "
      ]
     },
     "execution_count": 11,
     "metadata": {},
     "output_type": "execute_result"
    }
   ],
   "source": [
    "# Ganti nilai 0 dengan nilai mean\n",
    "pembangkit_mean = pembangkit_dataset.replace(0, mean_value)\n",
    "\n",
    "# tampilkan tabel baru\n",
    "pembangkit_mean.head()"
   ]
  },
  {
   "cell_type": "code",
   "execution_count": 12,
   "metadata": {},
   "outputs": [
    {
     "name": "stdout",
     "output_type": "stream",
     "text": [
      "     gross  coal_flow  main_steam_press  feedwater_flow  nilai_kalori  \\\n",
      "87   225.8      193.4               8.2           838.6        3877.3   \n",
      "88   405.7      326.9              12.1          1453.4        3491.5   \n",
      "89   450.0      345.5              13.4          1570.8        3573.0   \n",
      "90   459.8      343.9              13.7          1619.1        3744.9   \n",
      "91   539.7      371.4              15.7          1905.8        3762.7   \n",
      "..     ...        ...               ...             ...           ...   \n",
      "771  399.2      267.8              12.6          1295.1        4199.1   \n",
      "772  342.2      229.8              11.8          1125.6        4054.2   \n",
      "773  439.6      291.9              13.7          1419.4        3534.5   \n",
      "774  436.4      263.7              13.5          1402.0        4045.2   \n",
      "775  460.4      308.3              14.0          1468.8        3662.2   \n",
      "\n",
      "     air_flow  \n",
      "87      889.9  \n",
      "88     1338.4  \n",
      "89     1455.9  \n",
      "90     1456.6  \n",
      "91     1655.2  \n",
      "..        ...  \n",
      "771    1249.9  \n",
      "772    1207.6  \n",
      "773    1373.5  \n",
      "774    1336.4  \n",
      "775    1469.8  \n",
      "\n",
      "[570 rows x 6 columns]\n"
     ]
    }
   ],
   "source": [
    "# Hapus baris yang memiliki nilai 0\n",
    "pembangkit_no_zero = pembangkit_dataset[(pembangkit_dataset != 0).all(axis=1)]\n",
    "\n",
    "print(pembangkit_no_zero)"
   ]
  },
  {
   "cell_type": "markdown",
   "metadata": {},
   "source": [
    "4. Visualisasi Data"
   ]
  },
  {
   "cell_type": "markdown",
   "metadata": {},
   "source": [
    "5. seleksi fitur"
   ]
  },
  {
   "cell_type": "code",
   "execution_count": 13,
   "metadata": {},
   "outputs": [
    {
     "data": {
      "text/plain": [
       "((570, 5), (570,))"
      ]
     },
     "execution_count": 13,
     "metadata": {},
     "output_type": "execute_result"
    }
   ],
   "source": [
    "features = ['coal_flow','main_steam_press', 'feedwater_flow', 'nilai_kalori', 'air_flow']\n",
    "x = pembangkit_no_zero[features]\n",
    "y = pembangkit_no_zero['gross']\n",
    "x.shape, y.shape"
   ]
  },
  {
   "cell_type": "markdown",
   "metadata": {},
   "source": [
    "6. Split data training dan testing"
   ]
  },
  {
   "cell_type": "code",
   "execution_count": 14,
   "metadata": {},
   "outputs": [
    {
     "data": {
      "text/plain": [
       "(143,)"
      ]
     },
     "execution_count": 14,
     "metadata": {},
     "output_type": "execute_result"
    }
   ],
   "source": [
    "from sklearn.model_selection import train_test_split\n",
    "x_train, x_test, y_train, y_test = train_test_split(x,y, random_state=70)\n",
    "y_test.shape"
   ]
  },
  {
   "cell_type": "markdown",
   "metadata": {},
   "source": [
    "7. membuat model regresi linier"
   ]
  },
  {
   "cell_type": "code",
   "execution_count": 15,
   "metadata": {},
   "outputs": [],
   "source": [
    "from sklearn.linear_model import LinearRegression\n",
    "lr = LinearRegression()\n",
    "lr.fit(x_train,y_train)\n",
    "pred = lr.predict(x_test)"
   ]
  },
  {
   "cell_type": "code",
   "execution_count": 16,
   "metadata": {},
   "outputs": [
    {
     "name": "stdout",
     "output_type": "stream",
     "text": [
      "akurasi model prediksi dengan regresi liner =  0.9884994252027698\n"
     ]
    }
   ],
   "source": [
    "score = lr.score(x_test, y_test)\n",
    "print('akurasi model prediksi dengan regresi liner = ', score)"
   ]
  },
  {
   "cell_type": "markdown",
   "metadata": {},
   "source": [
    "8. Membuat inputan model regresi linier"
   ]
  },
  {
   "cell_type": "code",
   "execution_count": 17,
   "metadata": {},
   "outputs": [
    {
     "name": "stdout",
     "output_type": "stream",
     "text": [
      "Besar listrik yang dihasilkan PLTU =  [256.38206369] MWH\n"
     ]
    },
    {
     "name": "stderr",
     "output_type": "stream",
     "text": [
      "c:\\Users\\Hawlett-Packard\\miniconda3\\lib\\site-packages\\sklearn\\base.py:464: UserWarning: X does not have valid feature names, but LinearRegression was fitted with feature names\n",
      "  warnings.warn(\n"
     ]
    }
   ],
   "source": [
    "# 'coal_flow','main_steam_press', 'feedwater_flow', 'nilai_kalori', 'air_flow'\n",
    "input_data = np.array([[193.4,9,838.6,3877.3,889.9]])\n",
    "\n",
    "prediction = lr.predict(input_data)\n",
    "print('Besar listrik yang dihasilkan PLTU = ', prediction, 'MWH')"
   ]
  },
  {
   "cell_type": "markdown",
   "metadata": {},
   "source": [
    "9. Simpan model menggunakan pickle"
   ]
  },
  {
   "cell_type": "code",
   "execution_count": 29,
   "metadata": {},
   "outputs": [],
   "source": [
    "import pickle\n",
    "\n",
    "filename = 'prediksi_pembangkit.sav'\n",
    "pickle.dump(lr,open(filename, 'wb'))"
   ]
  }
 ],
 "metadata": {
  "kernelspec": {
   "display_name": "Python 3",
   "language": "python",
   "name": "python3"
  },
  "language_info": {
   "codemirror_mode": {
    "name": "ipython",
    "version": 3
   },
   "file_extension": ".py",
   "mimetype": "text/x-python",
   "name": "python",
   "nbconvert_exporter": "python",
   "pygments_lexer": "ipython3",
   "version": "3.9.12"
  },
  "orig_nbformat": 4
 },
 "nbformat": 4,
 "nbformat_minor": 2
}
